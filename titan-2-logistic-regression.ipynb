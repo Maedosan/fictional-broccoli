{
 "cells": [
  {
   "cell_type": "code",
   "execution_count": 1,
   "id": "bfaa94b4",
   "metadata": {
    "_cell_guid": "b1076dfc-b9ad-4769-8c92-a6c4dae69d19",
    "_uuid": "8f2839f25d086af736a60e9eeb907d3b93b6e0e5",
    "execution": {
     "iopub.execute_input": "2022-06-28T09:18:51.579266Z",
     "iopub.status.busy": "2022-06-28T09:18:51.578394Z",
     "iopub.status.idle": "2022-06-28T09:18:51.598342Z",
     "shell.execute_reply": "2022-06-28T09:18:51.596938Z"
    },
    "papermill": {
     "duration": 0.034794,
     "end_time": "2022-06-28T09:18:51.601472",
     "exception": false,
     "start_time": "2022-06-28T09:18:51.566678",
     "status": "completed"
    },
    "tags": []
   },
   "outputs": [
    {
     "name": "stdout",
     "output_type": "stream",
     "text": [
      "/kaggle/input/titanic/train.csv\n",
      "/kaggle/input/titanic/test.csv\n",
      "/kaggle/input/titanic/gender_submission.csv\n"
     ]
    }
   ],
   "source": [
    "# This Python 3 environment comes with many helpful analytics libraries installed\n",
    "# It is defined by the kaggle/python Docker image: https://github.com/kaggle/docker-python\n",
    "# For example, here's several helpful packages to load\n",
    "\n",
    "import numpy as np # linear algebra\n",
    "import pandas as pd # data processing, CSV file I/O (e.g. pd.read_csv)\n",
    "\n",
    "# Input data files are available in the read-only \"../input/\" directory\n",
    "# For example, running this (by clicking run or pressing Shift+Enter) will list all files under the input directory\n",
    "\n",
    "import os\n",
    "for dirname, _, filenames in os.walk('/kaggle/input'):\n",
    "    for filename in filenames:\n",
    "        print(os.path.join(dirname, filename))\n",
    "\n",
    "# You can write up to 20GB to the current directory (/kaggle/working/) that gets preserved as output when you create a version using \"Save & Run All\" \n",
    "# You can also write temporary files to /kaggle/temp/, but they won't be saved outside of the current session"
   ]
  },
  {
   "cell_type": "code",
   "execution_count": 2,
   "id": "9c8c2556",
   "metadata": {
    "execution": {
     "iopub.execute_input": "2022-06-28T09:18:51.619176Z",
     "iopub.status.busy": "2022-06-28T09:18:51.618595Z",
     "iopub.status.idle": "2022-06-28T09:18:53.093602Z",
     "shell.execute_reply": "2022-06-28T09:18:53.092455Z"
    },
    "jupyter": {
     "source_hidden": true
    },
    "papermill": {
     "duration": 1.486855,
     "end_time": "2022-06-28T09:18:53.096669",
     "exception": false,
     "start_time": "2022-06-28T09:18:51.609814",
     "status": "completed"
    },
    "tags": []
   },
   "outputs": [],
   "source": [
    "import pandas as pd\n",
    "import numpy as np\n",
    "import matplotlib.pyplot as plt\n",
    "import seaborn as sns\n",
    "from sklearn import preprocessing\n",
    "from sklearn import datasets\n",
    "from sklearn import linear_model\n",
    "from sklearn.model_selection import train_test_split\n",
    "import scipy.stats as sps\n",
    "import matplotlib.pyplot as plt\n",
    "import sklearn.metrics as skm\n",
    "from scipy.optimize import minimize_scalar\n",
    "import statistics as stats\n",
    "\n",
    "sns.set_theme(style='white')"
   ]
  },
  {
   "cell_type": "code",
   "execution_count": 3,
   "id": "671fbc3c",
   "metadata": {
    "execution": {
     "iopub.execute_input": "2022-06-28T09:18:53.114069Z",
     "iopub.status.busy": "2022-06-28T09:18:53.113212Z",
     "iopub.status.idle": "2022-06-28T09:18:53.122012Z",
     "shell.execute_reply": "2022-06-28T09:18:53.120634Z"
    },
    "jupyter": {
     "source_hidden": true
    },
    "papermill": {
     "duration": 0.019992,
     "end_time": "2022-06-28T09:18:53.124230",
     "exception": false,
     "start_time": "2022-06-28T09:18:53.104238",
     "status": "completed"
    },
    "tags": []
   },
   "outputs": [],
   "source": [
    "def mapFeature(A,n):\n",
    "    if (len(A.columns) > 1) and n > 1:    \n",
    "        B = A.copy()\n",
    "        m = len(A.iloc[:,:-1].columns)\n",
    "        for i in range(2,n+1):\n",
    "            for each in list(sums(m,i)):\n",
    "                B.insert(loc = len(B.columns)-1 ,column = str(each) ,value = combi_val(each,A.iloc[:,:-1]))\n",
    "        return B\n",
    "    else :\n",
    "        return A "
   ]
  },
  {
   "cell_type": "code",
   "execution_count": 4,
   "id": "f867894a",
   "metadata": {
    "execution": {
     "iopub.execute_input": "2022-06-28T09:18:53.140291Z",
     "iopub.status.busy": "2022-06-28T09:18:53.139835Z",
     "iopub.status.idle": "2022-06-28T09:18:53.147006Z",
     "shell.execute_reply": "2022-06-28T09:18:53.145808Z"
    },
    "jupyter": {
     "source_hidden": true
    },
    "papermill": {
     "duration": 0.017913,
     "end_time": "2022-06-28T09:18:53.149418",
     "exception": false,
     "start_time": "2022-06-28T09:18:53.131505",
     "status": "completed"
    },
    "tags": []
   },
   "outputs": [],
   "source": [
    "def sums(length, total_sum):\n",
    "    if length == 1:\n",
    "        yield (total_sum,)\n",
    "    else:\n",
    "        for value in range(total_sum + 1):\n",
    "            for permutation in sums(length - 1, total_sum - value):\n",
    "                yield (value,) + permutation"
   ]
  },
  {
   "cell_type": "code",
   "execution_count": 5,
   "id": "4f0f98d9",
   "metadata": {
    "execution": {
     "iopub.execute_input": "2022-06-28T09:18:53.166187Z",
     "iopub.status.busy": "2022-06-28T09:18:53.165255Z",
     "iopub.status.idle": "2022-06-28T09:18:53.172021Z",
     "shell.execute_reply": "2022-06-28T09:18:53.170842Z"
    },
    "jupyter": {
     "source_hidden": true
    },
    "papermill": {
     "duration": 0.017922,
     "end_time": "2022-06-28T09:18:53.174398",
     "exception": false,
     "start_time": "2022-06-28T09:18:53.156476",
     "status": "completed"
    },
    "tags": []
   },
   "outputs": [],
   "source": [
    "def combi_val(vals,df):\n",
    "    result=1\n",
    "    for each in range(len(df.columns)):\n",
    "        result = result*(df.iloc[:,each]**vals[each])\n",
    "    return pd.DataFrame(result)"
   ]
  },
  {
   "cell_type": "code",
   "execution_count": 6,
   "id": "44bc036f",
   "metadata": {
    "execution": {
     "iopub.execute_input": "2022-06-28T09:18:53.190419Z",
     "iopub.status.busy": "2022-06-28T09:18:53.190050Z",
     "iopub.status.idle": "2022-06-28T09:18:53.194420Z",
     "shell.execute_reply": "2022-06-28T09:18:53.193299Z"
    },
    "papermill": {
     "duration": 0.01527,
     "end_time": "2022-06-28T09:18:53.196626",
     "exception": false,
     "start_time": "2022-06-28T09:18:53.181356",
     "status": "completed"
    },
    "tags": []
   },
   "outputs": [],
   "source": [
    "#Logistic Regression Model"
   ]
  },
  {
   "cell_type": "code",
   "execution_count": 7,
   "id": "83e3d5b5",
   "metadata": {
    "execution": {
     "iopub.execute_input": "2022-06-28T09:18:53.213037Z",
     "iopub.status.busy": "2022-06-28T09:18:53.212383Z",
     "iopub.status.idle": "2022-06-28T09:18:53.266689Z",
     "shell.execute_reply": "2022-06-28T09:18:53.265574Z"
    },
    "papermill": {
     "duration": 0.065415,
     "end_time": "2022-06-28T09:18:53.269130",
     "exception": false,
     "start_time": "2022-06-28T09:18:53.203715",
     "status": "completed"
    },
    "tags": []
   },
   "outputs": [
    {
     "data": {
      "text/html": [
       "<div>\n",
       "<style scoped>\n",
       "    .dataframe tbody tr th:only-of-type {\n",
       "        vertical-align: middle;\n",
       "    }\n",
       "\n",
       "    .dataframe tbody tr th {\n",
       "        vertical-align: top;\n",
       "    }\n",
       "\n",
       "    .dataframe thead th {\n",
       "        text-align: right;\n",
       "    }\n",
       "</style>\n",
       "<table border=\"1\" class=\"dataframe\">\n",
       "  <thead>\n",
       "    <tr style=\"text-align: right;\">\n",
       "      <th></th>\n",
       "      <th>Survived</th>\n",
       "      <th>Pclass</th>\n",
       "      <th>Name</th>\n",
       "      <th>Sex</th>\n",
       "      <th>Age</th>\n",
       "      <th>SibSp</th>\n",
       "      <th>Parch</th>\n",
       "      <th>Ticket</th>\n",
       "      <th>Fare</th>\n",
       "      <th>Cabin</th>\n",
       "      <th>Embarked</th>\n",
       "    </tr>\n",
       "    <tr>\n",
       "      <th>PassengerId</th>\n",
       "      <th></th>\n",
       "      <th></th>\n",
       "      <th></th>\n",
       "      <th></th>\n",
       "      <th></th>\n",
       "      <th></th>\n",
       "      <th></th>\n",
       "      <th></th>\n",
       "      <th></th>\n",
       "      <th></th>\n",
       "      <th></th>\n",
       "    </tr>\n",
       "  </thead>\n",
       "  <tbody>\n",
       "    <tr>\n",
       "      <th>1</th>\n",
       "      <td>0</td>\n",
       "      <td>3</td>\n",
       "      <td>Braund, Mr. Owen Harris</td>\n",
       "      <td>male</td>\n",
       "      <td>22.0</td>\n",
       "      <td>1</td>\n",
       "      <td>0</td>\n",
       "      <td>A/5 21171</td>\n",
       "      <td>7.2500</td>\n",
       "      <td>NaN</td>\n",
       "      <td>S</td>\n",
       "    </tr>\n",
       "    <tr>\n",
       "      <th>2</th>\n",
       "      <td>1</td>\n",
       "      <td>1</td>\n",
       "      <td>Cumings, Mrs. John Bradley (Florence Briggs Th...</td>\n",
       "      <td>female</td>\n",
       "      <td>38.0</td>\n",
       "      <td>1</td>\n",
       "      <td>0</td>\n",
       "      <td>PC 17599</td>\n",
       "      <td>71.2833</td>\n",
       "      <td>C85</td>\n",
       "      <td>C</td>\n",
       "    </tr>\n",
       "    <tr>\n",
       "      <th>3</th>\n",
       "      <td>1</td>\n",
       "      <td>3</td>\n",
       "      <td>Heikkinen, Miss. Laina</td>\n",
       "      <td>female</td>\n",
       "      <td>26.0</td>\n",
       "      <td>0</td>\n",
       "      <td>0</td>\n",
       "      <td>STON/O2. 3101282</td>\n",
       "      <td>7.9250</td>\n",
       "      <td>NaN</td>\n",
       "      <td>S</td>\n",
       "    </tr>\n",
       "    <tr>\n",
       "      <th>4</th>\n",
       "      <td>1</td>\n",
       "      <td>1</td>\n",
       "      <td>Futrelle, Mrs. Jacques Heath (Lily May Peel)</td>\n",
       "      <td>female</td>\n",
       "      <td>35.0</td>\n",
       "      <td>1</td>\n",
       "      <td>0</td>\n",
       "      <td>113803</td>\n",
       "      <td>53.1000</td>\n",
       "      <td>C123</td>\n",
       "      <td>S</td>\n",
       "    </tr>\n",
       "    <tr>\n",
       "      <th>5</th>\n",
       "      <td>0</td>\n",
       "      <td>3</td>\n",
       "      <td>Allen, Mr. William Henry</td>\n",
       "      <td>male</td>\n",
       "      <td>35.0</td>\n",
       "      <td>0</td>\n",
       "      <td>0</td>\n",
       "      <td>373450</td>\n",
       "      <td>8.0500</td>\n",
       "      <td>NaN</td>\n",
       "      <td>S</td>\n",
       "    </tr>\n",
       "    <tr>\n",
       "      <th>...</th>\n",
       "      <td>...</td>\n",
       "      <td>...</td>\n",
       "      <td>...</td>\n",
       "      <td>...</td>\n",
       "      <td>...</td>\n",
       "      <td>...</td>\n",
       "      <td>...</td>\n",
       "      <td>...</td>\n",
       "      <td>...</td>\n",
       "      <td>...</td>\n",
       "      <td>...</td>\n",
       "    </tr>\n",
       "    <tr>\n",
       "      <th>887</th>\n",
       "      <td>0</td>\n",
       "      <td>2</td>\n",
       "      <td>Montvila, Rev. Juozas</td>\n",
       "      <td>male</td>\n",
       "      <td>27.0</td>\n",
       "      <td>0</td>\n",
       "      <td>0</td>\n",
       "      <td>211536</td>\n",
       "      <td>13.0000</td>\n",
       "      <td>NaN</td>\n",
       "      <td>S</td>\n",
       "    </tr>\n",
       "    <tr>\n",
       "      <th>888</th>\n",
       "      <td>1</td>\n",
       "      <td>1</td>\n",
       "      <td>Graham, Miss. Margaret Edith</td>\n",
       "      <td>female</td>\n",
       "      <td>19.0</td>\n",
       "      <td>0</td>\n",
       "      <td>0</td>\n",
       "      <td>112053</td>\n",
       "      <td>30.0000</td>\n",
       "      <td>B42</td>\n",
       "      <td>S</td>\n",
       "    </tr>\n",
       "    <tr>\n",
       "      <th>889</th>\n",
       "      <td>0</td>\n",
       "      <td>3</td>\n",
       "      <td>Johnston, Miss. Catherine Helen \"Carrie\"</td>\n",
       "      <td>female</td>\n",
       "      <td>NaN</td>\n",
       "      <td>1</td>\n",
       "      <td>2</td>\n",
       "      <td>W./C. 6607</td>\n",
       "      <td>23.4500</td>\n",
       "      <td>NaN</td>\n",
       "      <td>S</td>\n",
       "    </tr>\n",
       "    <tr>\n",
       "      <th>890</th>\n",
       "      <td>1</td>\n",
       "      <td>1</td>\n",
       "      <td>Behr, Mr. Karl Howell</td>\n",
       "      <td>male</td>\n",
       "      <td>26.0</td>\n",
       "      <td>0</td>\n",
       "      <td>0</td>\n",
       "      <td>111369</td>\n",
       "      <td>30.0000</td>\n",
       "      <td>C148</td>\n",
       "      <td>C</td>\n",
       "    </tr>\n",
       "    <tr>\n",
       "      <th>891</th>\n",
       "      <td>0</td>\n",
       "      <td>3</td>\n",
       "      <td>Dooley, Mr. Patrick</td>\n",
       "      <td>male</td>\n",
       "      <td>32.0</td>\n",
       "      <td>0</td>\n",
       "      <td>0</td>\n",
       "      <td>370376</td>\n",
       "      <td>7.7500</td>\n",
       "      <td>NaN</td>\n",
       "      <td>Q</td>\n",
       "    </tr>\n",
       "  </tbody>\n",
       "</table>\n",
       "<p>891 rows × 11 columns</p>\n",
       "</div>"
      ],
      "text/plain": [
       "             Survived  Pclass  \\\n",
       "PassengerId                     \n",
       "1                   0       3   \n",
       "2                   1       1   \n",
       "3                   1       3   \n",
       "4                   1       1   \n",
       "5                   0       3   \n",
       "...               ...     ...   \n",
       "887                 0       2   \n",
       "888                 1       1   \n",
       "889                 0       3   \n",
       "890                 1       1   \n",
       "891                 0       3   \n",
       "\n",
       "                                                          Name     Sex   Age  \\\n",
       "PassengerId                                                                    \n",
       "1                                      Braund, Mr. Owen Harris    male  22.0   \n",
       "2            Cumings, Mrs. John Bradley (Florence Briggs Th...  female  38.0   \n",
       "3                                       Heikkinen, Miss. Laina  female  26.0   \n",
       "4                 Futrelle, Mrs. Jacques Heath (Lily May Peel)  female  35.0   \n",
       "5                                     Allen, Mr. William Henry    male  35.0   \n",
       "...                                                        ...     ...   ...   \n",
       "887                                      Montvila, Rev. Juozas    male  27.0   \n",
       "888                               Graham, Miss. Margaret Edith  female  19.0   \n",
       "889                   Johnston, Miss. Catherine Helen \"Carrie\"  female   NaN   \n",
       "890                                      Behr, Mr. Karl Howell    male  26.0   \n",
       "891                                        Dooley, Mr. Patrick    male  32.0   \n",
       "\n",
       "             SibSp  Parch            Ticket     Fare Cabin Embarked  \n",
       "PassengerId                                                          \n",
       "1                1      0         A/5 21171   7.2500   NaN        S  \n",
       "2                1      0          PC 17599  71.2833   C85        C  \n",
       "3                0      0  STON/O2. 3101282   7.9250   NaN        S  \n",
       "4                1      0            113803  53.1000  C123        S  \n",
       "5                0      0            373450   8.0500   NaN        S  \n",
       "...            ...    ...               ...      ...   ...      ...  \n",
       "887              0      0            211536  13.0000   NaN        S  \n",
       "888              0      0            112053  30.0000   B42        S  \n",
       "889              1      2        W./C. 6607  23.4500   NaN        S  \n",
       "890              0      0            111369  30.0000  C148        C  \n",
       "891              0      0            370376   7.7500   NaN        Q  \n",
       "\n",
       "[891 rows x 11 columns]"
      ]
     },
     "execution_count": 7,
     "metadata": {},
     "output_type": "execute_result"
    }
   ],
   "source": [
    "#Loading Training Data\n",
    "data = pd.read_csv('../input/titanic/train.csv',index_col='PassengerId')\n",
    "data"
   ]
  },
  {
   "cell_type": "code",
   "execution_count": 8,
   "id": "7faaadc3",
   "metadata": {
    "execution": {
     "iopub.execute_input": "2022-06-28T09:18:53.287321Z",
     "iopub.status.busy": "2022-06-28T09:18:53.286149Z",
     "iopub.status.idle": "2022-06-28T09:18:53.297166Z",
     "shell.execute_reply": "2022-06-28T09:18:53.296184Z"
    },
    "papermill": {
     "duration": 0.022441,
     "end_time": "2022-06-28T09:18:53.299464",
     "exception": false,
     "start_time": "2022-06-28T09:18:53.277023",
     "status": "completed"
    },
    "tags": []
   },
   "outputs": [],
   "source": [
    "#Choosing Relevant Features:\n",
    "x = data[['Pclass','Sex','Age','SibSp','Parch','Cabin']]\n",
    "\n",
    "#Converting Sex Labels to 0/1:\n",
    "x = x.assign( Sex = preprocessing.LabelEncoder().fit_transform(x['Sex']) )"
   ]
  },
  {
   "cell_type": "code",
   "execution_count": 9,
   "id": "c811b7db",
   "metadata": {
    "execution": {
     "iopub.execute_input": "2022-06-28T09:18:53.316992Z",
     "iopub.status.busy": "2022-06-28T09:18:53.316575Z",
     "iopub.status.idle": "2022-06-28T09:18:53.553419Z",
     "shell.execute_reply": "2022-06-28T09:18:53.552111Z"
    },
    "papermill": {
     "duration": 0.24883,
     "end_time": "2022-06-28T09:18:53.556163",
     "exception": false,
     "start_time": "2022-06-28T09:18:53.307333",
     "status": "completed"
    },
    "tags": []
   },
   "outputs": [],
   "source": [
    "#Filling Missing Age Values With Mean Of Groups Of Similar Individuals:\n",
    "x['Age'] = x.apply(lambda row: (x[ (x['Pclass'] == row['Pclass']) & (x['Sex'] == row['Sex']) & (x['SibSp']+x['Parch'] == row['SibSp']+row['Parch']) ]['Age']).mean() if np.isnan(row['Age']) else row['Age'],axis=1)\n",
    "\n",
    "\n",
    "#Converting Cabin Labels to 0/1 Based On Values Being Missing Or Present:\n",
    "x['Cabin'] = x.apply(lambda row: 0 if pd.isnull(row['Cabin']) else 1,axis=1)\n"
   ]
  },
  {
   "cell_type": "code",
   "execution_count": 10,
   "id": "efafe7c6",
   "metadata": {
    "execution": {
     "iopub.execute_input": "2022-06-28T09:18:53.573573Z",
     "iopub.status.busy": "2022-06-28T09:18:53.573212Z",
     "iopub.status.idle": "2022-06-28T09:18:53.587488Z",
     "shell.execute_reply": "2022-06-28T09:18:53.586254Z"
    },
    "papermill": {
     "duration": 0.026305,
     "end_time": "2022-06-28T09:18:53.590208",
     "exception": false,
     "start_time": "2022-06-28T09:18:53.563903",
     "status": "completed"
    },
    "tags": []
   },
   "outputs": [],
   "source": [
    "#Removing Rows That Couldn't Be Approximated:\n",
    "x.dropna(inplace=True)\n",
    "y = data[data.index.isin(x.index)]['Survived']"
   ]
  },
  {
   "cell_type": "code",
   "execution_count": 11,
   "id": "58269a36",
   "metadata": {
    "execution": {
     "iopub.execute_input": "2022-06-28T09:18:53.608044Z",
     "iopub.status.busy": "2022-06-28T09:18:53.607130Z",
     "iopub.status.idle": "2022-06-28T09:18:53.651857Z",
     "shell.execute_reply": "2022-06-28T09:18:53.650705Z"
    },
    "papermill": {
     "duration": 0.056414,
     "end_time": "2022-06-28T09:18:53.654392",
     "exception": false,
     "start_time": "2022-06-28T09:18:53.597978",
     "status": "completed"
    },
    "tags": []
   },
   "outputs": [],
   "source": [
    "#Using A Funtion To Generate Exponential And Multiplicative Factors:\n",
    "X = mapFeature(x,2)\n",
    "\n",
    "#Splittinng Data:\n",
    "X_train, X_test, y_train, y_test = train_test_split(X,y,test_size=0.2)"
   ]
  },
  {
   "cell_type": "code",
   "execution_count": 12,
   "id": "72ec85d3",
   "metadata": {
    "execution": {
     "iopub.execute_input": "2022-06-28T09:18:53.672571Z",
     "iopub.status.busy": "2022-06-28T09:18:53.671183Z",
     "iopub.status.idle": "2022-06-28T09:18:53.676517Z",
     "shell.execute_reply": "2022-06-28T09:18:53.675684Z"
    },
    "jupyter": {
     "source_hidden": true
    },
    "papermill": {
     "duration": 0.016438,
     "end_time": "2022-06-28T09:18:53.678487",
     "exception": false,
     "start_time": "2022-06-28T09:18:53.662049",
     "status": "completed"
    },
    "tags": []
   },
   "outputs": [],
   "source": [
    "#Optimising Parameter C For Logistic Regression Using Zero-One Classification Loss:\n",
    "\n",
    "\n",
    "# def f(x):\n",
    "#     return skm.zero_one_loss(y_test, linear_model.LogisticRegression(penalty='l2',C=x,solver = 'lbfgs',max_iter=10000).fit(X_train, y_train).predict(X_test))\n",
    "# L=[]\n",
    "# for i in range(10):\n",
    "#     X_train, X_test, y_train, y_test = train_test_split(X,y,test_size=0.2)\n",
    "#     res = minimize_scalar(f, bounds=(0.00001,100000), method='bounded')\n",
    "#     L.append(res.x)\n",
    "# stats.mean(L)"
   ]
  },
  {
   "cell_type": "code",
   "execution_count": 13,
   "id": "41aafa78",
   "metadata": {
    "execution": {
     "iopub.execute_input": "2022-06-28T09:18:53.696054Z",
     "iopub.status.busy": "2022-06-28T09:18:53.695627Z",
     "iopub.status.idle": "2022-06-28T09:18:55.409752Z",
     "shell.execute_reply": "2022-06-28T09:18:55.408521Z"
    },
    "papermill": {
     "duration": 1.727303,
     "end_time": "2022-06-28T09:18:55.413646",
     "exception": false,
     "start_time": "2022-06-28T09:18:53.686343",
     "status": "completed"
    },
    "tags": []
   },
   "outputs": [
    {
     "data": {
      "text/plain": [
       "0.8305084745762712"
      ]
     },
     "execution_count": 13,
     "metadata": {},
     "output_type": "execute_result"
    }
   ],
   "source": [
    "#Training Logistic Regression Model:\n",
    "LRG = linear_model.LogisticRegression(penalty='l2',C=86300,solver = 'lbfgs',max_iter=10000).fit(X_train, y_train)\n",
    "LRG.score(X_test,y_test)"
   ]
  },
  {
   "cell_type": "code",
   "execution_count": 14,
   "id": "41b5e9f7",
   "metadata": {
    "execution": {
     "iopub.execute_input": "2022-06-28T09:18:55.444801Z",
     "iopub.status.busy": "2022-06-28T09:18:55.444062Z",
     "iopub.status.idle": "2022-06-28T09:18:55.704738Z",
     "shell.execute_reply": "2022-06-28T09:18:55.702912Z"
    },
    "papermill": {
     "duration": 0.278887,
     "end_time": "2022-06-28T09:18:55.707147",
     "exception": false,
     "start_time": "2022-06-28T09:18:55.428260",
     "status": "completed"
    },
    "tags": []
   },
   "outputs": [
    {
     "data": {
      "text/plain": [
       "0.8138148667601683"
      ]
     },
     "execution_count": 14,
     "metadata": {},
     "output_type": "execute_result"
    },
    {
     "data": {
      "image/png": "[encoded data removed]",
      "text/plain": [
       "<Figure size 432x288 with 1 Axes>"
      ]
     },
     "metadata": {},
     "output_type": "display_data"
    }
   ],
   "source": [
    "#Precison Recall and F1 Score:\n",
    "precision, recall, _ = skm.precision_recall_curve(y_test, LRG.predict(X_test))\n",
    "disp = skm.PrecisionRecallDisplay(precision=precision, recall=recall)\n",
    "disp.plot()\n",
    "skm.precision_recall_fscore_support(y_test,LRG.predict(X_test), average='macro')[2]"
   ]
  },
  {
   "cell_type": "code",
   "execution_count": 15,
   "id": "9b01ba65",
   "metadata": {
    "execution": {
     "iopub.execute_input": "2022-06-28T09:18:55.725785Z",
     "iopub.status.busy": "2022-06-28T09:18:55.725200Z",
     "iopub.status.idle": "2022-06-28T09:18:55.730758Z",
     "shell.execute_reply": "2022-06-28T09:18:55.729902Z"
    },
    "jupyter": {
     "source_hidden": true
    },
    "papermill": {
     "duration": 0.017774,
     "end_time": "2022-06-28T09:18:55.733206",
     "exception": false,
     "start_time": "2022-06-28T09:18:55.715432",
     "status": "completed"
    },
    "tags": []
   },
   "outputs": [],
   "source": [
    "# vis = []\n",
    "# for i in list(range(1,21))*100:\n",
    "#     LRG = linear_model.LogisticRegression(penalty='l2',C=i,solver = 'lbfgs',max_iter=10000).fit(X_train, y_train)\n",
    "#     vis.append([i,LRG.score(X_test,y_test)])\n",
    "# pd.DataFrame(vis)[1].plot()"
   ]
  },
  {
   "cell_type": "code",
   "execution_count": 16,
   "id": "344cbca7",
   "metadata": {
    "_kg_hide-input": true,
    "execution": {
     "iopub.execute_input": "2022-06-28T09:18:55.751248Z",
     "iopub.status.busy": "2022-06-28T09:18:55.750832Z",
     "iopub.status.idle": "2022-06-28T09:18:55.756294Z",
     "shell.execute_reply": "2022-06-28T09:18:55.755310Z"
    },
    "jupyter": {
     "source_hidden": true
    },
    "papermill": {
     "duration": 0.017281,
     "end_time": "2022-06-28T09:18:55.758510",
     "exception": false,
     "start_time": "2022-06-28T09:18:55.741229",
     "status": "completed"
    },
    "tags": []
   },
   "outputs": [],
   "source": [
    "# results = []\n",
    "# for i in np.geomspace(1,200,50):\n",
    "#   for n in range(3):\n",
    "#     avg = []\n",
    "#     X = mapFeature(x,n)\n",
    "#     avg = []\n",
    "#     for j in range(11):\n",
    "#         X_train, X_test, y_train, y_test = train_test_split(X,y,test_size=0.2)\n",
    "#         L = []\n",
    "#         LRG = linear_model.LogisticRegression(penalty='l2',C=i,solver = 'lbfgs',max_iter=5000).fit(X_train, y_train)\n",
    "#         avg.append(LRG.score(X_test,y_test))\n",
    "#     results.append([n,i,np.mean(avg)])\n",
    "    \n",
    "# results = pd.DataFrame(results,columns=['degree','alpha','mean error'])\n",
    "# x = np.array(results['degree'])\n",
    "# y = np.array(results['alpha'])\n",
    "# z = np.array(results['mean error'])\n",
    "# offset = 1.25\n",
    "# xmin = x.min()\n",
    "# xmax = x.max()+offset\n",
    "# ymin = y.min()\n",
    "# ymax = y.max()+offset\n",
    "\n",
    "# X, Y = np.mgrid[xmin:xmax:100j, ymin:ymax:100j]\n",
    "# positions = np.vstack([X.ravel(), Y.ravel()])\n",
    "# values = np.vstack([x, y])\n",
    "# kernel = sps.gaussian_kde(values, weights=z)\n",
    "# Z = np.reshape(kernel(positions).T, X.shape)\n",
    "\n",
    "# fig, ax = plt.subplots(figsize=(20, 10))\n",
    "# light_jet = cmap_map(lambda x: x/2 + 0.5, matplotlib.cm.jet)\n",
    "\n",
    "# ax.imshow(np.rot90(Z),cmap=plt.cm.jet,extent=[xmin, xmax, ymin, ymax],aspect='auto')\n",
    "# sns.scatterplot(data=results,x='degree', y='alpha',size='mean error',color='k')\n",
    "# ax.set_xlim([xmin, xmax])\n",
    "# ax.set_ylim([ymin, ymax])\n",
    "# ax.legend(loc='upper left', bbox_to_anchor=(1,1))\n",
    "# plt.show()"
   ]
  },
  {
   "cell_type": "code",
   "execution_count": 17,
   "id": "b35bce4b",
   "metadata": {
    "execution": {
     "iopub.execute_input": "2022-06-28T09:18:55.776922Z",
     "iopub.status.busy": "2022-06-28T09:18:55.776543Z",
     "iopub.status.idle": "2022-06-28T09:18:55.793621Z",
     "shell.execute_reply": "2022-06-28T09:18:55.792556Z"
    },
    "papermill": {
     "duration": 0.029659,
     "end_time": "2022-06-28T09:18:55.796230",
     "exception": false,
     "start_time": "2022-06-28T09:18:55.766571",
     "status": "completed"
    },
    "tags": []
   },
   "outputs": [],
   "source": [
    "#Loading Test Data:\n",
    "test = pd.read_csv('../input/titanic/test.csv',index_col='PassengerId')\n",
    "test['Fam'] = test['SibSp'] + test['Parch']\n",
    "test_data = test[['Pclass','Sex','Age','SibSp','Parch','Cabin']]\n",
    "test_data = test_data.assign( Sex = preprocessing.LabelEncoder().fit_transform(test_data['Sex']) )"
   ]
  },
  {
   "cell_type": "code",
   "execution_count": 18,
   "id": "8ed49936",
   "metadata": {
    "execution": {
     "iopub.execute_input": "2022-06-28T09:18:55.814220Z",
     "iopub.status.busy": "2022-06-28T09:18:55.813833Z",
     "iopub.status.idle": "2022-06-28T09:18:55.940130Z",
     "shell.execute_reply": "2022-06-28T09:18:55.939098Z"
    },
    "papermill": {
     "duration": 0.138233,
     "end_time": "2022-06-28T09:18:55.942672",
     "exception": false,
     "start_time": "2022-06-28T09:18:55.804439",
     "status": "completed"
    },
    "tags": []
   },
   "outputs": [],
   "source": [
    "#Populating Missing Age Values (As Was Done During Training):\n",
    "test_data['Age'] = test_data.apply(lambda row: (x[(x['Pclass'] == row['Pclass']) & (x['Sex'] == row['Sex']) & (x['SibSp']+x['Parch'] == row['SibSp']+row['Parch']) ]['Age']).mean() if np.isnan(row['Age']) else row['Age'],axis=1)\n",
    "\n",
    "test_data['Cabin'] = x.apply(lambda row: 0 if pd.isnull(row['Cabin']) else 1,axis=1)"
   ]
  },
  {
   "cell_type": "code",
   "execution_count": 19,
   "id": "328ee37e",
   "metadata": {
    "execution": {
     "iopub.execute_input": "2022-06-28T09:18:55.960799Z",
     "iopub.status.busy": "2022-06-28T09:18:55.960100Z",
     "iopub.status.idle": "2022-06-28T09:18:55.965812Z",
     "shell.execute_reply": "2022-06-28T09:18:55.964972Z"
    },
    "papermill": {
     "duration": 0.017658,
     "end_time": "2022-06-28T09:18:55.968439",
     "exception": false,
     "start_time": "2022-06-28T09:18:55.950781",
     "status": "completed"
    },
    "tags": []
   },
   "outputs": [],
   "source": [
    "#Observed Outliers In Dataset During Exploratory Analysis:\n",
    "sage = test_data[test_data['Age'].isnull()]"
   ]
  },
  {
   "cell_type": "code",
   "execution_count": 20,
   "id": "b7f682b2",
   "metadata": {
    "execution": {
     "iopub.execute_input": "2022-06-28T09:18:55.986608Z",
     "iopub.status.busy": "2022-06-28T09:18:55.986235Z",
     "iopub.status.idle": "2022-06-28T09:18:55.990792Z",
     "shell.execute_reply": "2022-06-28T09:18:55.990098Z"
    },
    "papermill": {
     "duration": 0.016246,
     "end_time": "2022-06-28T09:18:55.992902",
     "exception": false,
     "start_time": "2022-06-28T09:18:55.976656",
     "status": "completed"
    },
    "tags": []
   },
   "outputs": [],
   "source": [
    "#Populating Empty Age Values:\n",
    "test_data.fillna(0,inplace=True)"
   ]
  },
  {
   "cell_type": "code",
   "execution_count": 21,
   "id": "428436e9",
   "metadata": {
    "execution": {
     "iopub.execute_input": "2022-06-28T09:18:56.012510Z",
     "iopub.status.busy": "2022-06-28T09:18:56.012089Z",
     "iopub.status.idle": "2022-06-28T09:18:56.058707Z",
     "shell.execute_reply": "2022-06-28T09:18:56.057679Z"
    },
    "papermill": {
     "duration": 0.060218,
     "end_time": "2022-06-28T09:18:56.061234",
     "exception": false,
     "start_time": "2022-06-28T09:18:56.001016",
     "status": "completed"
    },
    "tags": []
   },
   "outputs": [],
   "source": [
    "#Computing Predection On Test Data\n",
    "result = pd.DataFrame(LRG.predict(mapFeature(test_data,2)),index=test_data.index,columns=['Survived'])"
   ]
  },
  {
   "cell_type": "code",
   "execution_count": 22,
   "id": "f7b1e436",
   "metadata": {
    "execution": {
     "iopub.execute_input": "2022-06-28T09:18:56.079261Z",
     "iopub.status.busy": "2022-06-28T09:18:56.078890Z",
     "iopub.status.idle": "2022-06-28T09:18:56.085163Z",
     "shell.execute_reply": "2022-06-28T09:18:56.083944Z"
    },
    "papermill": {
     "duration": 0.01828,
     "end_time": "2022-06-28T09:18:56.087565",
     "exception": false,
     "start_time": "2022-06-28T09:18:56.069285",
     "status": "completed"
    },
    "tags": []
   },
   "outputs": [],
   "source": [
    "#Manually Assigning Values To Observed Outliers In Data:\n",
    "result[result.index.isin(sage.index)]['Survived'].values[:] = 0"
   ]
  },
  {
   "cell_type": "code",
   "execution_count": 23,
   "id": "86097152",
   "metadata": {
    "execution": {
     "iopub.execute_input": "2022-06-28T09:18:56.106032Z",
     "iopub.status.busy": "2022-06-28T09:18:56.105250Z",
     "iopub.status.idle": "2022-06-28T09:18:56.114109Z",
     "shell.execute_reply": "2022-06-28T09:18:56.113077Z"
    },
    "papermill": {
     "duration": 0.02127,
     "end_time": "2022-06-28T09:18:56.116935",
     "exception": false,
     "start_time": "2022-06-28T09:18:56.095665",
     "status": "completed"
    },
    "tags": []
   },
   "outputs": [],
   "source": [
    "#Saving Result\n",
    "result.to_csv('submission.csv')"
   ]
  }
 ],
 "metadata": {
  "kernelspec": {
   "display_name": "Python 3",
   "language": "python",
   "name": "python3"
  },
  "language_info": {
   "codemirror_mode": {
    "name": "ipython",
    "version": 3
   },
   "file_extension": ".py",
   "mimetype": "text/x-python",
   "name": "python",
   "nbconvert_exporter": "python",
   "pygments_lexer": "ipython3",
   "version": "3.7.12"
  },
  "papermill": {
   "default_parameters": {},
   "duration": 15.484941,
   "end_time": "2022-06-28T09:18:56.847744",
   "environment_variables": {},
   "exception": null,
   "input_path": "__notebook__.ipynb",
   "output_path": "__notebook__.ipynb",
   "parameters": {},
   "start_time": "2022-06-28T09:18:41.362803",
   "version": "2.3.4"
  }
 },
 "nbformat": 4,
 "nbformat_minor": 5
}
